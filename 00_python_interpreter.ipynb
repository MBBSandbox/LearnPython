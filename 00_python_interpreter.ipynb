{
 "cells": [
  {
   "cell_type": "markdown",
   "metadata": {},
   "source": [
    "## The Python Interpreter"
   ]
  },
  {
   "cell_type": "markdown",
   "metadata": {},
   "source": [
    "Python is an **interpreted language**. The programmer provides statements written in the Python language to the **python interpreter**. The python interpreter executes these statements and returns the results to the programmer. This web page is a **jupyter notebook**, which you can think of as a link between a your browser and a python interpreter. The code that you type in this notebook will be sent to a python interpreter, and the results will be sent back to you. "
   ]
  },
  {
   "cell_type": "markdown",
   "metadata": {},
   "source": [
    "The simplest statements that the python interpreter can understand are arithmetic expressions, such as those that you would type into a calculator. To learn how to send arithmetic expressions to the interpreter, perform the following actions: \n",
    "\n",
    "1. Click your mouse on the gray box  below (you should see a blinking cursor)\n",
    "2. Type the arithmetic expression '3 + 5'\n",
    "3. Press Shift-Return"
   ]
  },
  {
   "cell_type": "code",
   "execution_count": null,
   "metadata": {},
   "outputs": [],
   "source": []
  },
  {
   "cell_type": "markdown",
   "metadata": {},
   "source": [
    "You should see the number '8' pop out above this line. This is the output that the python interpreter produced in response to your statement.\n",
    "\n",
    "The python interpreter can handle more complex expressions as well. After clicking the gray box below, try evaluating the expression \"(5 - 3)*10 + 12/4\". Remember, you must press Shift-Return to send your statement to the python interpreter and receive the result back. "
   ]
  },
  {
   "cell_type": "code",
   "execution_count": null,
   "metadata": {},
   "outputs": [],
   "source": []
  },
  {
   "cell_type": "markdown",
   "metadata": {},
   "source": [
    "The result of an arithmetic expression may be assigned to a **variable**. For example, the number of seconds in one hour may be stored in a variable like so:"
   ]
  },
  {
   "cell_type": "code",
   "execution_count": 14,
   "metadata": {},
   "outputs": [],
   "source": [
    "n_seconds_in_hour = 60 * 60"
   ]
  },
  {
   "cell_type": "markdown",
   "metadata": {},
   "source": [
    "Variables may be used in subsequent arithmetic expressions. For example, to compute the number of seconds in two hours, we could use the following expression:"
   ]
  },
  {
   "cell_type": "code",
   "execution_count": 15,
   "metadata": {},
   "outputs": [
    {
     "data": {
      "text/plain": [
       "7200"
      ]
     },
     "execution_count": 15,
     "metadata": {},
     "output_type": "execute_result"
    }
   ],
   "source": [
    "2 * n_seconds_in_hour"
   ]
  },
  {
   "cell_type": "markdown",
   "metadata": {},
   "source": [
    "## Exercise: Interest Rates"
   ]
  },
  {
   "cell_type": "markdown",
   "metadata": {},
   "source": [
    "At an interest rate of 7% per year (compounded annually), compute the interest due on a $500 principal after one year. First, declare a variable named 'interest_rate' to store the interest rate, then use this variable to calculate the resulting dollar amount owed. Click the gray box below to begin typing your python statements. Remember to type Shift-Enter to execute a single statment.  "
   ]
  },
  {
   "cell_type": "code",
   "execution_count": null,
   "metadata": {},
   "outputs": [],
   "source": []
  }
 ],
 "metadata": {
  "kernelspec": {
   "display_name": "Python 3",
   "language": "python",
   "name": "python3"
  },
  "language_info": {
   "codemirror_mode": {
    "name": "ipython",
    "version": 3
   },
   "file_extension": ".py",
   "mimetype": "text/x-python",
   "name": "python",
   "nbconvert_exporter": "python",
   "pygments_lexer": "ipython3",
   "version": "3.6.4"
  }
 },
 "nbformat": 4,
 "nbformat_minor": 2
}

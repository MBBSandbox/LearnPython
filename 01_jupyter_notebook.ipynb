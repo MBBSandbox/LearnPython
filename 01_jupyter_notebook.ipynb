{
 "cells": [
  {
   "cell_type": "markdown",
   "metadata": {},
   "source": [
    "## The Jupyter Notebook"
   ]
  },
  {
   "cell_type": "markdown",
   "metadata": {},
   "source": [
    "Now that you know how to send basic statements to the python interpreter and display the output, we will spend some time learning about the **jupyter notebook**, the web page with which you are currently interacting. While the python interpreter actually does the real work of executing your python statements and returning the results, the jupyter notebook allows you to organize your statements into **cells**."
   ]
  },
  {
   "cell_type": "markdown",
   "metadata": {},
   "source": [
    "### Manipulating Code Cells\n",
    "\n",
    "To **edit** a code cell, click on its contents. If the code cell is empty, the contents will just be a gray box. You will notice that the border of the cell becomes green. You will notice that the left-hand border of the cell becomes blue. To **select** the code cell, but not edit it, press the `Escape` key after clicking on the cell contents. You will notice that the left-hand border of the cell becomes blue. Finally, to **delete** a cell, click on the cell, press the `Escape` key, and then press the `d` key twice. Use this process to delete the cell below. "
   ]
  },
  {
   "cell_type": "code",
   "execution_count": null,
   "metadata": {},
   "outputs": [],
   "source": []
  },
  {
   "cell_type": "markdown",
   "metadata": {},
   "source": [
    "### Inserting New Cells\n",
    "To insert a new code cell, click the '+' in the top left corner of the notebook (below the 'File' menu). Use this process to insert a new code cell below this line."
   ]
  }
 ],
 "metadata": {
  "kernelspec": {
   "display_name": "Python 3",
   "language": "python",
   "name": "python3"
  },
  "language_info": {
   "codemirror_mode": {
    "name": "ipython",
    "version": 3
   },
   "file_extension": ".py",
   "mimetype": "text/x-python",
   "name": "python",
   "nbconvert_exporter": "python",
   "pygments_lexer": "ipython3",
   "version": "3.6.4"
  }
 },
 "nbformat": 4,
 "nbformat_minor": 2
}

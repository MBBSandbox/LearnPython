{
 "cells": [
  {
   "cell_type": "markdown",
   "metadata": {},
   "source": [
    "## The Jupyter Notebook"
   ]
  },
  {
   "cell_type": "markdown",
   "metadata": {},
   "source": [
    "Now that you know how to send basic statements to the python interpreter and display the output, we will spend some time learning about the **jupyter notebook**, the web page with which you are currently interacting. While the python interpreter actually does the real work of executing your python statements and returning the results, the jupyter notebook allows you to organize your statements into **cells**."
   ]
  },
  {
   "cell_type": "markdown",
   "metadata": {},
   "source": [
    "### Selecting Cells\n",
    "\n",
    "To **select** the cell that contains a point on the screen, click that point. For example, click the text 'Selecting Cells' above. You should see a gray border appear around this paragraph, and a blue border appear on the left side. Now try clicking the large title 'The Jupyter Notebook' above - you will notice that now that cell is selected instead. "
   ]
  },
  {
   "cell_type": "markdown",
   "metadata": {},
   "source": [
    "### Editing Cells\n",
    "\n",
    "To **edit** a cell, double-click on its contents. For example, double-click on this cell. You will notice that the format of the text changes. To restore the cell to its previous state, click the 'Run' button in the menu above near the center of your screen. "
   ]
  },
  {
   "cell_type": "markdown",
   "metadata": {},
   "source": [
    "###  Code Cells\n",
    "\n",
    "Code cells are the cells that allow you to type commands and send them to the python interpreter. If the code cell is empty, the contents will just be a gray box. To edit a code cell, click on the gray box. You will notice that the border of the cell becomes green. Click the code cell below, type '3 * 5', and press Shift-Return to view the results. "
   ]
  },
  {
   "cell_type": "code",
   "execution_count": null,
   "metadata": {},
   "outputs": [],
   "source": []
  },
  {
   "cell_type": "markdown",
   "metadata": {},
   "source": [
    "### Inserting New Code Cells\n",
    "To insert a new code cell, click the '+' in the top left corner of the notebook (below the 'File' menu). Select this cell, then use the '+' button to insert a new cell below this line."
   ]
  },
  {
   "cell_type": "markdown",
   "metadata": {},
   "source": [
    "### Deleting Cells\n",
    "\n",
    "Finally, to delete a cell, perform the following steps:\n",
    "\n",
    "1. Select the cell\n",
    "2. Press 'd', then 'd' again\n",
    "\n",
    "Use this process to delete the cell containing 'DELETE ME' below this line."
   ]
  },
  {
   "cell_type": "markdown",
   "metadata": {},
   "source": [
    "DELETE ME"
   ]
  }
 ],
 "metadata": {
  "kernelspec": {
   "display_name": "Python 3",
   "language": "python",
   "name": "python3"
  },
  "language_info": {
   "codemirror_mode": {
    "name": "ipython",
    "version": 3
   },
   "file_extension": ".py",
   "mimetype": "text/x-python",
   "name": "python",
   "nbconvert_exporter": "python",
   "pygments_lexer": "ipython3",
   "version": "3.6.4"
  }
 },
 "nbformat": 4,
 "nbformat_minor": 2
}

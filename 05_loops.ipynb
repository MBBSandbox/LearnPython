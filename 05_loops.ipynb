{
 "cells": [
  {
   "cell_type": "markdown",
   "metadata": {},
   "source": [
    "## Loops\n",
    "\n",
    "Sometimes, you need to execute the same type of task many times. For example, you may need to print the first and last name of every customer in a long list of customers. **Loops** provide the means of doing this efficiently."
   ]
  },
  {
   "cell_type": "markdown",
   "metadata": {},
   "source": [
    "A **for loop** can be used to repeat an operation on each individual element of a list: "
   ]
  },
  {
   "cell_type": "code",
   "execution_count": 15,
   "metadata": {},
   "outputs": [
    {
     "name": "stdout",
     "output_type": "stream",
     "text": [
      "this item is called:  first\n",
      "this item is called:  second\n",
      "this item is called:  third\n"
     ]
    }
   ],
   "source": [
    "my_list = [\"first\", \"second\", \"third\"]\n",
    "for item in my_list:\n",
    "    print(\"this item is called: \", item)"
   ]
  },
  {
   "cell_type": "markdown",
   "metadata": {},
   "source": [
    "The above code snippet may be understood as performing the following individual operations:\n",
    "\n",
    "1. Assign the next entry in `my_list` to the variable `item`.\n",
    "2. Call the `print(...)` function using the current value of `item`.\n",
    "3. Repeat the above for each other element in the list."
   ]
  },
  {
   "cell_type": "markdown",
   "metadata": {},
   "source": [
    "### Exercise: Welcome Message Printer\n",
    "\n",
    "Given the list of names `names = [\"jeff\", \"jim\", \"joe\"]`, use a `for` loop to print a welcome message of the form `\"hello jeff, how are you?\"` for each name."
   ]
  },
  {
   "cell_type": "code",
   "execution_count": null,
   "metadata": {},
   "outputs": [],
   "source": []
  },
  {
   "cell_type": "markdown",
   "metadata": {},
   "source": [
    "Suppose that you simply want to \"do X operation 5 times,\" rather than having a specific list to loop over. For this purpose, you can call the `range(...)` function, which will generate a list over which you can loop:"
   ]
  },
  {
   "cell_type": "code",
   "execution_count": 16,
   "metadata": {},
   "outputs": [
    {
     "name": "stdout",
     "output_type": "stream",
     "text": [
      "entry number:  0\n",
      "entry number:  1\n",
      "entry number:  2\n",
      "entry number:  3\n",
      "entry number:  4\n"
     ]
    }
   ],
   "source": [
    "for entry in range(0, 5):\n",
    "    print(\"entry number: \", entry)"
   ]
  },
  {
   "cell_type": "markdown",
   "metadata": {},
   "source": [
    "### Exercise: Adding Up Numbers\n",
    "\n",
    "Write a function that accepts as input a number *n* and returns the sum of all positive integers less than or equal to *n*. For example, if your function is called `sum_leq`, then `sum_leq(4)` should return `1 + 2 + 3 + 4 = 10`."
   ]
  }
 ],
 "metadata": {
  "kernelspec": {
   "display_name": "Python 3",
   "language": "python",
   "name": "python3"
  },
  "language_info": {
   "codemirror_mode": {
    "name": "ipython",
    "version": 3
   },
   "file_extension": ".py",
   "mimetype": "text/x-python",
   "name": "python",
   "nbconvert_exporter": "python",
   "pygments_lexer": "ipython3",
   "version": "3.6.4"
  }
 },
 "nbformat": 4,
 "nbformat_minor": 2
}

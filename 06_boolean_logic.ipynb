{
 "cells": [
  {
   "cell_type": "markdown",
   "metadata": {},
   "source": [
    "## Boolean Expressions\n",
    "\n",
    "In order to handle complex situations, code must often change its behavior based on whether some fact is `True` or `False`. For example, code that sends a person a \"happy birthday\" message should check whether the current day is, in fact, that individual's birthday. Formally evaluating whether complex statements are `True` or `False` is the domain of **Boolean Logic**, and we will refer to Python statements that can be evaluated as `True` or `False` as **Boolean Expressions**. Python has many kinds of Boolean Expressions. Your programs can reference these statements in order to make decisions. We will review the most common boolean expressions here. "
   ]
  },
  {
   "cell_type": "markdown",
   "metadata": {},
   "source": [
    "### The Equality Operator\n",
    "\n",
    "One type of statement that can be either `True` or `False` is the statement \"A is equal to B.\" In python, this statement is written using the following boolean expression:"
   ]
  },
  {
   "cell_type": "code",
   "execution_count": null,
   "metadata": {},
   "outputs": [],
   "source": [
    "A == B"
   ]
  },
  {
   "cell_type": "markdown",
   "metadata": {},
   "source": [
    "Note that this expression uses the double-equals operator (the **equality operator**), rather than the single-equals operator (the **assignment operator**). Let us experiment with the equality operator by checking the equality of several different values:"
   ]
  },
  {
   "cell_type": "code",
   "execution_count": null,
   "metadata": {},
   "outputs": [],
   "source": [
    "5 == 5"
   ]
  },
  {
   "cell_type": "code",
   "execution_count": null,
   "metadata": {},
   "outputs": [],
   "source": [
    "5 == 6"
   ]
  },
  {
   "cell_type": "code",
   "execution_count": null,
   "metadata": {},
   "outputs": [],
   "source": [
    "\"foo\" == \"foo\""
   ]
  },
  {
   "cell_type": "code",
   "execution_count": null,
   "metadata": {},
   "outputs": [],
   "source": [
    "\"foo\" == \"bar\""
   ]
  },
  {
   "cell_type": "markdown",
   "metadata": {},
   "source": [
    "### Comparison Operators\n",
    "\n",
    "When working with numbers, one must often check statements such as \"X is less than 5\" or \"X is greater than 6.\" In python, such statements are written as follows:"
   ]
  },
  {
   "cell_type": "code",
   "execution_count": null,
   "metadata": {},
   "outputs": [],
   "source": [
    "5 < 7"
   ]
  },
  {
   "cell_type": "code",
   "execution_count": null,
   "metadata": {},
   "outputs": [],
   "source": [
    "7 > 8"
   ]
  },
  {
   "cell_type": "markdown",
   "metadata": {},
   "source": [
    "There are similar operators for \"less than or equal to\", \"greater than or equal to\", etc:"
   ]
  },
  {
   "cell_type": "code",
   "execution_count": null,
   "metadata": {},
   "outputs": [],
   "source": [
    "7 <= 7"
   ]
  },
  {
   "cell_type": "code",
   "execution_count": null,
   "metadata": {},
   "outputs": [],
   "source": [
    "8 >= 9"
   ]
  },
  {
   "cell_type": "markdown",
   "metadata": {},
   "source": [
    "### Exercise: `filter_threshold` function\n",
    "\n",
    "Write a function that accepts two arguments: `elements` (a list) and `threshold` (a number. Your function should return a new list consisting of all elements of the old list that are greater-than-or-equal-to the threshold."
   ]
  },
  {
   "cell_type": "markdown",
   "metadata": {},
   "source": [
    "### Combining Expressions with `and`/`or`\n",
    "\n",
    "We may wish to check whether the combination of two statements is true, or if either individually is true. We can do this with the `and`/`or` boolean operators:"
   ]
  },
  {
   "cell_type": "code",
   "execution_count": null,
   "metadata": {},
   "outputs": [],
   "source": [
    "5 > 3 and 3 > 2"
   ]
  },
  {
   "cell_type": "code",
   "execution_count": null,
   "metadata": {},
   "outputs": [],
   "source": [
    "5 > 3 and 3 > 4"
   ]
  },
  {
   "cell_type": "code",
   "execution_count": null,
   "metadata": {},
   "outputs": [],
   "source": [
    "5 > 3 or 3 > 4"
   ]
  },
  {
   "cell_type": "markdown",
   "metadata": {},
   "source": [
    "### Storing Boolean Values in Variables\n",
    "\n",
    "The boolean values `True` and `False` are values just like the strings, numbers, and lists that we have worked with in previous lessons. They may be assigned to variables in the same way:"
   ]
  },
  {
   "cell_type": "code",
   "execution_count": null,
   "metadata": {},
   "outputs": [],
   "source": [
    "a = True\n",
    "b = False\n",
    "a and b"
   ]
  },
  {
   "cell_type": "markdown",
   "metadata": {},
   "source": [
    "### Exercise: `in_range` function\n",
    "\n",
    "Write a function called `in_range` that receives three numbers `a`, `b`, and `c` as inputs and returns `True` if `c` is within the range `[a, b]`."
   ]
  }
 ],
 "metadata": {
  "kernelspec": {
   "display_name": "Python 3",
   "language": "python",
   "name": "python3"
  },
  "language_info": {
   "codemirror_mode": {
    "name": "ipython",
    "version": 3
   },
   "file_extension": ".py",
   "mimetype": "text/x-python",
   "name": "python",
   "nbconvert_exporter": "python",
   "pygments_lexer": "ipython3",
   "version": "3.6.4"
  }
 },
 "nbformat": 4,
 "nbformat_minor": 2
}

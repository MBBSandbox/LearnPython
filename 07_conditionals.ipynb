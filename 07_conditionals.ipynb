{
 "cells": [
  {
   "cell_type": "markdown",
   "metadata": {},
   "source": [
    "## Conditionals\n",
    "\n",
    "Sometimes we want our functions to perform different operations depending on the specific values of their inputs. For example, suppose that we have a function called `notify_customer_of_low_balance` that is supposed to send an email to a customer to alert them that the balance in their bank account is low. This function should only notify the customer if, in fact, their balance is below the relevant threshold. We could implement this behavior using conditionals like so:"
   ]
  },
  {
   "cell_type": "code",
   "execution_count": 6,
   "metadata": {},
   "outputs": [],
   "source": [
    "def notify_customer_of_low_balance(customer_name, balance):\n",
    "    if balance < 10.00:\n",
    "        print(\"WARNING: \", customer_name, \", your balance is low!\")\n",
    "    else:\n",
    "        print(\"OK\")"
   ]
  },
  {
   "cell_type": "markdown",
   "metadata": {},
   "source": [
    "The `if` branch above will execute if the boolean expression to the right (`balance < 10.00`) evaluates to `True`. If the expression `balance < 10.00` evaluates to `False`, the `else` branch will be executed instead. Our code can also have more than two branches, as shown below:"
   ]
  },
  {
   "cell_type": "code",
   "execution_count": 7,
   "metadata": {},
   "outputs": [],
   "source": [
    "def notify_customer_of_low_balance(customer_name, balance):\n",
    "    if balance < 10.00:\n",
    "        print(\"WARNING: \", customer_name, \", your balance is VERY low!\")\n",
    "    elif balance < 20.00:\n",
    "        print(\"WARNING: \", customer_name, \", your balance is low!\")\n",
    "    else:\n",
    "        print(\"OK\")"
   ]
  },
  {
   "cell_type": "markdown",
   "metadata": {},
   "source": [
    "### Exercise: Loyalty Program\n",
    "\n",
    "Write a function `print_loyalty_msg(...)` that accepts two parameters: `account_age_years` and `account_balance`. Your function should print a message according to the following rules:\n",
    "\n",
    "1. If `account_age_years` is greater than 15 AND `account_balance` is greater than 100K, print \"You are Executive Diamond Level\"\n",
    "2. If `account_age_years` is greater than 15, print \"You are Diamond Level\"\n",
    "3. If `account_age_years` is greater than 10, print \"You are Platinum Level\""
   ]
  },
  {
   "cell_type": "markdown",
   "metadata": {},
   "source": [
    "Conditionals statements can also be **nested**, as shown below:"
   ]
  },
  {
   "cell_type": "code",
   "execution_count": 8,
   "metadata": {},
   "outputs": [],
   "source": [
    "def check_credit_score(credit_score, income):\n",
    "    if credit_score > 800:\n",
    "        print(\"you are approved\")\n",
    "    elif credit_score > 600:\n",
    "        if income > 100000:\n",
    "            print(\"you are approved\")\n",
    "        else:\n",
    "            print(\"almost approved, but you need more income\")\n",
    "    else:\n",
    "        print(\"your credit score is too low\")"
   ]
  },
  {
   "cell_type": "markdown",
   "metadata": {},
   "source": [
    "### Exercise: `filter_threshold` function\n",
    "\n",
    "Write a function that accepts two arguments: `elements` (a list) and `threshold` (a number.) Your function should return two new lists - the first one consisting of all elements of the old list that are greater-than-or-equal-to the threshold, and the second one consisting\n",
    "of all elements from the old list that are less than the threshold. "
   ]
  },
  {
   "cell_type": "code",
   "execution_count": null,
   "metadata": {},
   "outputs": [],
   "source": []
  }
 ],
 "metadata": {
  "kernelspec": {
   "display_name": "Python 3",
   "language": "python",
   "name": "python3"
  },
  "language_info": {
   "codemirror_mode": {
    "name": "ipython",
    "version": 3
   },
   "file_extension": ".py",
   "mimetype": "text/x-python",
   "name": "python",
   "nbconvert_exporter": "python",
   "pygments_lexer": "ipython3",
   "version": "3.6.4"
  }
 },
 "nbformat": 4,
 "nbformat_minor": 2
}

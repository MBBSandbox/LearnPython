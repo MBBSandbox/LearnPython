{
 "cells": [
  {
   "cell_type": "markdown",
   "metadata": {},
   "source": [
    "## Dictionaries\n",
    "\n",
    "We will now learn about another core type of python entity that is very useful: dictionaries. **Dictionaries** consist of key-value pairs like the following:"
   ]
  },
  {
   "cell_type": "code",
   "execution_count": 1,
   "metadata": {},
   "outputs": [
    {
     "name": "stdout",
     "output_type": "stream",
     "text": [
      "This is a dictionary:  {'name': 'joe', 'balance': 500}\n"
     ]
    }
   ],
   "source": [
    "print(\"This is a dictionary: \", {\"name\":\"joe\",\"balance\":500})"
   ]
  },
  {
   "cell_type": "markdown",
   "metadata": {},
   "source": [
    "Notice that the dictionary above has the following properties:\n",
    "\n",
    "1. It is enclosed in `{...}` (curly braces)\n",
    "2. Its entries are of the form `key:value` - for example, `name` is a key and `joe` is a value"
   ]
  },
  {
   "cell_type": "markdown",
   "metadata": {},
   "source": [
    "You can access the value corresponding to a key using the `[]` operator:"
   ]
  },
  {
   "cell_type": "code",
   "execution_count": 7,
   "metadata": {},
   "outputs": [
    {
     "data": {
      "text/plain": [
       "'microsoft'"
      ]
     },
     "execution_count": 7,
     "metadata": {},
     "output_type": "execute_result"
    }
   ],
   "source": [
    "my_dict = {\"company_name\":\"microsoft\"}\n",
    "my_dict[\"company_name\"]"
   ]
  },
  {
   "cell_type": "markdown",
   "metadata": {},
   "source": [
    "Similarly, you can use the `[]` operator in conjunction with the assignment operator `=` to change the value stored in a dictionary:"
   ]
  },
  {
   "cell_type": "code",
   "execution_count": 8,
   "metadata": {},
   "outputs": [
    {
     "data": {
      "text/plain": [
       "'apple'"
      ]
     },
     "execution_count": 8,
     "metadata": {},
     "output_type": "execute_result"
    }
   ],
   "source": [
    "my_dict[\"company_name\"] = \"apple\"\n",
    "my_dict[\"company_name\"]"
   ]
  },
  {
   "cell_type": "markdown",
   "metadata": {},
   "source": [
    "Dictionaries are very useful for storing values that we must look up at a later time. For example, you might want to store the bank account balance for all of your customers. When a customer opens up their bank account application on their phone, how do you know what balance number to show them? The look-up process for a customer account balance could be implemented using dictionaries as follows: "
   ]
  },
  {
   "cell_type": "code",
   "execution_count": 2,
   "metadata": {},
   "outputs": [],
   "source": [
    "accounts = {\"john\":500, \"james\":1000}\n",
    "def get_balance(customer_name):\n",
    "    return accounts[customer_name]"
   ]
  },
  {
   "cell_type": "markdown",
   "metadata": {},
   "source": [
    "We can look up the balance of a particular account by calling this function:"
   ]
  },
  {
   "cell_type": "code",
   "execution_count": 3,
   "metadata": {},
   "outputs": [
    {
     "data": {
      "text/plain": [
       "500"
      ]
     },
     "execution_count": 3,
     "metadata": {},
     "output_type": "execute_result"
    }
   ],
   "source": [
    "get_balance(\"john\")"
   ]
  },
  {
   "cell_type": "markdown",
   "metadata": {},
   "source": [
    "There may be a problem if the `accounts` dictionary does not contain a given name:"
   ]
  },
  {
   "cell_type": "code",
   "execution_count": 4,
   "metadata": {},
   "outputs": [
    {
     "ename": "KeyError",
     "evalue": "'sam'",
     "output_type": "error",
     "traceback": [
      "\u001b[0;31m---------------------------------------------------------------------------\u001b[0m",
      "\u001b[0;31mKeyError\u001b[0m                                  Traceback (most recent call last)",
      "\u001b[0;32m<ipython-input-4-8c3ab761e705>\u001b[0m in \u001b[0;36m<module>\u001b[0;34m()\u001b[0m\n\u001b[0;32m----> 1\u001b[0;31m \u001b[0mget_balance\u001b[0m\u001b[0;34m(\u001b[0m\u001b[0;34m\"sam\"\u001b[0m\u001b[0;34m)\u001b[0m\u001b[0;34m\u001b[0m\u001b[0m\n\u001b[0m",
      "\u001b[0;32m<ipython-input-2-d88a4acf2c6a>\u001b[0m in \u001b[0;36mget_balance\u001b[0;34m(customer_name)\u001b[0m\n\u001b[1;32m      1\u001b[0m \u001b[0maccounts\u001b[0m \u001b[0;34m=\u001b[0m \u001b[0;34m{\u001b[0m\u001b[0;34m\"john\"\u001b[0m\u001b[0;34m:\u001b[0m\u001b[0;36m500\u001b[0m\u001b[0;34m,\u001b[0m \u001b[0;34m\"james\"\u001b[0m\u001b[0;34m:\u001b[0m\u001b[0;36m1000\u001b[0m\u001b[0;34m}\u001b[0m\u001b[0;34m\u001b[0m\u001b[0m\n\u001b[1;32m      2\u001b[0m \u001b[0;32mdef\u001b[0m \u001b[0mget_balance\u001b[0m\u001b[0;34m(\u001b[0m\u001b[0mcustomer_name\u001b[0m\u001b[0;34m)\u001b[0m\u001b[0;34m:\u001b[0m\u001b[0;34m\u001b[0m\u001b[0m\n\u001b[0;32m----> 3\u001b[0;31m     \u001b[0;32mreturn\u001b[0m \u001b[0maccounts\u001b[0m\u001b[0;34m[\u001b[0m\u001b[0mcustomer_name\u001b[0m\u001b[0;34m]\u001b[0m\u001b[0;34m\u001b[0m\u001b[0m\n\u001b[0m",
      "\u001b[0;31mKeyError\u001b[0m: 'sam'"
     ]
    }
   ],
   "source": [
    "get_balance(\"sam\")"
   ]
  },
  {
   "cell_type": "markdown",
   "metadata": {},
   "source": [
    "Ideally, we should not allow our code to crash if it receives a non-customer name. Instead, we should handle the error gracefully. We can accomplish this by modifying our function to use an `if` statement combined with an `in` boolean expression:"
   ]
  },
  {
   "cell_type": "code",
   "execution_count": 5,
   "metadata": {},
   "outputs": [],
   "source": [
    "def get_balance_safe(customer_name):\n",
    "    if customer_name in accounts:\n",
    "        return accounts[customer_name]\n",
    "    else:\n",
    "        print(\"customer not found\")\n",
    "        return"
   ]
  },
  {
   "cell_type": "markdown",
   "metadata": {},
   "source": [
    "We can see that this function behaves in a more safe manner:"
   ]
  },
  {
   "cell_type": "code",
   "execution_count": 6,
   "metadata": {},
   "outputs": [
    {
     "name": "stdout",
     "output_type": "stream",
     "text": [
      "customer not found\n"
     ]
    }
   ],
   "source": [
    "get_balance_safe(\"sam\")"
   ]
  },
  {
   "cell_type": "markdown",
   "metadata": {},
   "source": [
    "### Exercise: Bank Account Transactions\n",
    "\n",
    "Create a dictionary containing three customers: `john`, `james`, and `jacob`. Give each of them a balance of `500`, `1000`, and `2000`, respectively. Then write a function `adjust_balance` that accepts three parameters:\n",
    "\n",
    "1. `accounts` dictionary\n",
    "2. `customer_name`\n",
    "3. `delta`: the amount by which to change the account balance\n",
    "\n",
    "Your function should appropriately increment/decrement the account balance stored in the `accounts` dictionary. If `customer_name` does not correspond to a key in the `accounts` dictionary, your function should print an error message."
   ]
  },
  {
   "cell_type": "markdown",
   "metadata": {},
   "source": [
    "### Iterating over Dictionaries\n",
    "\n",
    "You can loop the keys of a dictionary just as we previously looped over the elements of a list, by using a `for` loop:"
   ]
  },
  {
   "cell_type": "code",
   "execution_count": null,
   "metadata": {},
   "outputs": [],
   "source": [
    "customer_addresses = {\"joe\": \"1234 generic lane\", \"john\": \"1 infinite loop\", \"james\": \"po box 1234\"}\n",
    "print(\"NAME\\tADDRESS\")                    \n",
    "for customer in customer_addresses:\n",
    "    address = customer_addresses[customer]\n",
    "    print(customer, \"\\t\", address)\n",
    "    "
   ]
  },
  {
   "cell_type": "markdown",
   "metadata": {},
   "source": [
    "### Exercise: Print Customer Account Summaries\n",
    "\n",
    "Write a function that accepts an `accounts` dictionary as a parameter. This dictionary should contain customer names as its keys, and account balances as its values. The customer should get a LOW_BALANCE_WARNING (a boolean `True` or `False`) if their balance is below `100` USD.  Iterate over the dictionary entries and print a table containing the following column information:\n",
    "\n",
    "|CUSTOMER_NAME     |      ACCOUNT_BALANCE   |       LOW_BALANCE_WARNING|\n"
   ]
  },
  {
   "cell_type": "code",
   "execution_count": null,
   "metadata": {},
   "outputs": [],
   "source": []
  }
 ],
 "metadata": {
  "kernelspec": {
   "display_name": "Python 3",
   "language": "python",
   "name": "python3"
  },
  "language_info": {
   "codemirror_mode": {
    "name": "ipython",
    "version": 3
   },
   "file_extension": ".py",
   "mimetype": "text/x-python",
   "name": "python",
   "nbconvert_exporter": "python",
   "pygments_lexer": "ipython3",
   "version": "3.6.4"
  }
 },
 "nbformat": 4,
 "nbformat_minor": 2
}

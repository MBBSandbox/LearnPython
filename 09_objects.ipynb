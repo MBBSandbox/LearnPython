{
 "cells": [
  {
   "cell_type": "markdown",
   "metadata": {},
   "source": [
    "## Objects\n",
    "\n",
    "Until now, we have primarily worked with three types of entities in Python: strings, numbers and lists. All of these entities are relatively simple. However, in real life, we often prefer to work with more complex **objects** that contain multiple related pieces of data. For example, a bank may work with a customer's `Account` object, which contains the following pieces of related information:\n",
    "\n",
    "1. Name - the customer's name\n",
    "2. Email - email address contact for the customer\n",
    "3. Balance - the current account balance in dollars\n",
    "\n",
    "Before this lesson, we have only learned how to write functions that refer to each of these pieces of information individually. For example, we could start a function that notifies a customer of a low balance as follows:"
   ]
  },
  {
   "cell_type": "code",
   "execution_count": null,
   "metadata": {},
   "outputs": [],
   "source": [
    "def notify_low_balance(customer_name, customer_email, balance):"
   ]
  },
  {
   "cell_type": "markdown",
   "metadata": {},
   "source": [
    "This is not ideal. The more parameters that our function accepts, the easier it is to make mistakes when we write code. For example, we might accidentally reverse the order of the name and the email when calling the function:"
   ]
  },
  {
   "cell_type": "code",
   "execution_count": null,
   "metadata": {},
   "outputs": [],
   "source": [
    "notify_low_balance(\"john.smith@gmail.com\", \"john smith\", 50.00)"
   ]
  },
  {
   "cell_type": "markdown",
   "metadata": {},
   "source": [
    "This will result in the function failing to execute, disrupting our business and angering our users. It is even easier to make this mistake if we must call multiple functions, all working with the same related pieces of data:"
   ]
  },
  {
   "cell_type": "code",
   "execution_count": null,
   "metadata": {},
   "outputs": [],
   "source": [
    "transaction_notice_email(\"john.smith@gmail.com\", \"john smith\", 50.00)\n",
    "notify_low_balance(\"john.smith@gmail.com\", \"john smith\", 50.00)"
   ]
  },
  {
   "cell_type": "markdown",
   "metadata": {},
   "source": [
    "The solution to this problem (abstractly) is to group all of these related pieces of data (name, email, balance) into an `Account` **object**:\n",
    "\n",
    "John Smith's `Account`:\n",
    "   * name = \"john smith\"\n",
    "   * email = \"john.smith@gmail.com\"\n",
    "   * balance = 50.00"
   ]
  },
  {
   "cell_type": "markdown",
   "metadata": {},
   "source": [
    "In order to create objects, we must define blueprints (instructions) for how to create the objects that we want. These blueprints are called **classes**. The blueprint for creating the `Account` objects that we proposed above could look like this:"
   ]
  },
  {
   "cell_type": "code",
   "execution_count": null,
   "metadata": {},
   "outputs": [],
   "source": [
    "class Account:\n",
    "    def __init__(self, customer_name, customer_email, balance):\n",
    "        self.customer_name = customer_name\n",
    "        self.customer_email = customer_email\n",
    "        self.balance = balance"
   ]
  },
  {
   "cell_type": "markdown",
   "metadata": {},
   "source": [
    "In python, **classes** define how to create objects, and the objects thus created are **instances** of the class. Let's create three **instances** of our `Account` class:"
   ]
  },
  {
   "cell_type": "code",
   "execution_count": null,
   "metadata": {},
   "outputs": [],
   "source": [
    "account_0 = Account(\"sam\", \"sam@sam.com\", 50.00)\n",
    "account_1 = Account(\"phil\", \"phil@phil.com\", 100.00)\n",
    "account_2 = Account(\"joe\", \"joe@joe.com\", 1000.00)"
   ]
  },
  {
   "cell_type": "markdown",
   "metadata": {},
   "source": [
    "We can access the attributes of these new objects using the `.` operator:"
   ]
  },
  {
   "cell_type": "code",
   "execution_count": null,
   "metadata": {},
   "outputs": [],
   "source": [
    "account_0.customer_name"
   ]
  },
  {
   "cell_type": "markdown",
   "metadata": {},
   "source": [
    "We can now see how much cleaner the code for our `notify_low_balance` function can be with its parameters grouped into an `Account` object:"
   ]
  },
  {
   "cell_type": "code",
   "execution_count": null,
   "metadata": {},
   "outputs": [],
   "source": [
    "def notify_low_balance(account):"
   ]
  },
  {
   "cell_type": "markdown",
   "metadata": {},
   "source": [
    "### Everything is an Object\n",
    "\n",
    "It is important to understand this key fact: **everything in python is an object.** Every python value, whether it be a string like `\"foo\"`, a number like `5` or a list like `[\"element_0\", \"element_1\"]` is an object. Objects are collections of **attributes** and **values** - the precise set of attributes determines exactly what **type** of object that you are working with. "
   ]
  },
  {
   "cell_type": "markdown",
   "metadata": {},
   "source": [
    "You can see the **type** of object that a given python entity corresponds to by using the `type(...)` function:"
   ]
  },
  {
   "cell_type": "code",
   "execution_count": null,
   "metadata": {},
   "outputs": [],
   "source": [
    "type(5)"
   ]
  },
  {
   "cell_type": "code",
   "execution_count": null,
   "metadata": {},
   "outputs": [],
   "source": [
    "type(\"foo\")"
   ]
  },
  {
   "cell_type": "code",
   "execution_count": null,
   "metadata": {},
   "outputs": [],
   "source": [
    "type([\"one\", \"two\"])"
   ]
  },
  {
   "cell_type": "markdown",
   "metadata": {},
   "source": [
    "You can see ALL of the attributes that define an object using the `dir(...)` function:"
   ]
  },
  {
   "cell_type": "code",
   "execution_count": null,
   "metadata": {},
   "outputs": [],
   "source": [
    "dir(-5)"
   ]
  },
  {
   "cell_type": "markdown",
   "metadata": {},
   "source": [
    "To access the value of an object attribute, use the `.` operator that we discussed previously. For example, to access the `denominator` attribute of the object `-5`, do the following:"
   ]
  },
  {
   "cell_type": "code",
   "execution_count": null,
   "metadata": {},
   "outputs": [],
   "source": [
    "a = -5\n",
    "a.denominator"
   ]
  },
  {
   "cell_type": "markdown",
   "metadata": {},
   "source": [
    "### Object Methods\n",
    "\n",
    "In the real world, objects are not just passive attribute-containing entities - they can also *do things.* For example, a `Dog` object is not just something with the attributes `color=brown` and `breed=greyhound` - it can also `Bark(..)` and `Run(...)`. In Python, we allow our objects to *do things* by defining **methods** for them. We can define a method for our `Account` objects that allows an account to check itself for a low balance:"
   ]
  },
  {
   "cell_type": "code",
   "execution_count": null,
   "metadata": {},
   "outputs": [],
   "source": [
    "class Account:\n",
    "    def __init__(self, customer_name, customer_email, balance):\n",
    "        self.customer_name = customer_name\n",
    "        self.customer_email = customer_email\n",
    "        self.balance = balance\n",
    "    def check_low_balance(self):\n",
    "        return self.balance < 10.00"
   ]
  },
  {
   "cell_type": "markdown",
   "metadata": {},
   "source": [
    "Let's create an account object and use our new method to check whether it has a low balance:"
   ]
  },
  {
   "cell_type": "code",
   "execution_count": null,
   "metadata": {},
   "outputs": [],
   "source": [
    "low_balance_account = Account(\"sam\", \"sam@sam.com\", 5.00)\n",
    "low_balance_account.check_low_balance()\n"
   ]
  },
  {
   "cell_type": "markdown",
   "metadata": {},
   "source": [
    "### Exercise: Credit Card Objects\n",
    "\n",
    "Add a method called `charge(amount)` to the `CreditCard` class template below that decrements `available_funds` and prints an error message (and declines the charge) if the user does not have sufficient available funds:"
   ]
  },
  {
   "cell_type": "code",
   "execution_count": 42,
   "metadata": {},
   "outputs": [],
   "source": [
    "class CreditCard:\n",
    "    def __init__(self, limit):\n",
    "        self.available_funds = limit\n"
   ]
  },
  {
   "cell_type": "markdown",
   "metadata": {},
   "source": [
    "### Methods for Common Classes\n",
    "\n",
    "Python's builtin objects have many methods that you can call to accomplish useful things. For example, `string` objects like `\"foo\"` have a method `upper()` that returns the string converted to entirely uppercase:"
   ]
  },
  {
   "cell_type": "code",
   "execution_count": null,
   "metadata": {},
   "outputs": [],
   "source": [
    "\"mIxED CaSe\".upper()"
   ]
  },
  {
   "cell_type": "markdown",
   "metadata": {},
   "source": [
    "`list` objects also have many useful methods, such as the `insert(...)` method that allows us to insert a value at a particular position"
   ]
  },
  {
   "cell_type": "code",
   "execution_count": null,
   "metadata": {},
   "outputs": [],
   "source": [
    "my_list = [1,2,4]\n",
    "my_list.insert(2, 3)\n",
    "my_list"
   ]
  },
  {
   "cell_type": "markdown",
   "metadata": {},
   "source": [
    "The `append(...)` method is also a userful substitute for the `+` operator:"
   ]
  },
  {
   "cell_type": "code",
   "execution_count": null,
   "metadata": {},
   "outputs": [],
   "source": [
    "my_list = [1,2,3]\n",
    "my_list.append(4)\n",
    "my_list"
   ]
  },
  {
   "cell_type": "markdown",
   "metadata": {},
   "source": [
    "Finally, dictionaries have useful accessor methods to yield their keys and/or their values:"
   ]
  },
  {
   "cell_type": "code",
   "execution_count": null,
   "metadata": {},
   "outputs": [],
   "source": [
    "stocks = {\"AAPL\":200, \"GOOGL\":1000}\n",
    "keys = stocks.keys()\n",
    "values = stocks.values()\n",
    "print(\"keys: \", keys, \" - type: \", type(keys))\n",
    "print(\"values: \", keys, \" - type: \", type(values))\n"
   ]
  },
  {
   "cell_type": "markdown",
   "metadata": {},
   "source": [
    "Notice that the entities returned by these methods are themselves objects which are instances of particular classes. What do we do with them? We can iterate over them in the same way as we iterate over lists or dictionaries, using a `for` loop:"
   ]
  },
  {
   "cell_type": "code",
   "execution_count": null,
   "metadata": {},
   "outputs": [],
   "source": [
    "for k in stocks.keys():\n",
    "    print(k)\n",
    "print(\"---\")\n",
    "for v in stocks.values():\n",
    "    print(v)"
   ]
  },
  {
   "cell_type": "markdown",
   "metadata": {},
   "source": [
    "The dictionary class also provides the `iteritems(...)` method, which is very useful for iterating over both keys and values simultaneously:"
   ]
  },
  {
   "cell_type": "code",
   "execution_count": 51,
   "metadata": {},
   "outputs": [
    {
     "name": "stdout",
     "output_type": "stream",
     "text": [
      "AAPL :  200\n",
      "GOOGL :  1000\n"
     ]
    }
   ],
   "source": [
    "for k, v in stocks.items():\n",
    "    print(k, \": \", v)"
   ]
  },
  {
   "cell_type": "markdown",
   "metadata": {},
   "source": [
    "### Exercise:  Stock Portfolio Summary\n",
    "\n",
    "Write a function that accepts two arguments `portfolio` (a dictionary mapping ticker symbols to numbers of shares) and `prices` (a dictionary mapping ticker symbols to the current market share price.) Print the following information in a table (one stock per line)\n",
    "\n",
    "| ticker symbol | number of shares | total share value held | percent of portfolio value | "
   ]
  },
  {
   "cell_type": "code",
   "execution_count": null,
   "metadata": {},
   "outputs": [],
   "source": []
  }
 ],
 "metadata": {
  "kernelspec": {
   "display_name": "Python 3",
   "language": "python",
   "name": "python3"
  },
  "language_info": {
   "codemirror_mode": {
    "name": "ipython",
    "version": 3
   },
   "file_extension": ".py",
   "mimetype": "text/x-python",
   "name": "python",
   "nbconvert_exporter": "python",
   "pygments_lexer": "ipython3",
   "version": "3.6.4"
  }
 },
 "nbformat": 4,
 "nbformat_minor": 2
}

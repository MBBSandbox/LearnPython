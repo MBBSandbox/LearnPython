{
 "cells": [
  {
   "cell_type": "markdown",
   "metadata": {},
   "source": [
    "## Modules\n",
    "\n",
    "Writing code is a collaborative process: rather than writing every single piece of code that we need ourselves, we often rely on code written by others. This allows us to avoid \"reinventing the wheel\": once the code to solve a given problem is written, the world can focus on other problems.\n",
    "\n",
    "In order to use code written by others, we need a way to pull their code into our projects. Python allows this through its **module** system. Modules contain python functions written by other people that you can use in your python programs. For example, the `random` module provides a function `randint` that generates a random integer between two other integers:"
   ]
  },
  {
   "cell_type": "code",
   "execution_count": 18,
   "metadata": {
    "scrolled": true
   },
   "outputs": [
    {
     "name": "stdout",
     "output_type": "stream",
     "text": [
      "38\n",
      "51\n",
      "85\n"
     ]
    }
   ],
   "source": [
    "from random import randint\n",
    "print(randint(0, 100))\n",
    "print(randint(0, 100))\n",
    "print(randint(0, 100))"
   ]
  },
  {
   "cell_type": "markdown",
   "metadata": {},
   "source": [
    "The functions that you import from modules can be called just like the functions that you defined yourself in previous lessons. Modules in Python can be imported using two different sytaxes - the `from` syntax shown above, or the following equivalent syntax:"
   ]
  },
  {
   "cell_type": "code",
   "execution_count": 19,
   "metadata": {},
   "outputs": [
    {
     "name": "stdout",
     "output_type": "stream",
     "text": [
      "89\n",
      "1\n",
      "92\n"
     ]
    }
   ],
   "source": [
    "import random\n",
    "\n",
    "print(random.randint(0, 100))\n",
    "print(random.randint(0, 100))\n",
    "print(random.randint(0, 100))"
   ]
  },
  {
   "cell_type": "markdown",
   "metadata": {},
   "source": [
    "### `numpy`: The \"Advanced Math\" Module\n",
    "\n",
    "The `numpy` module provides many mathematical functions that are useful for solving problems in business and data science. We will review a few of the basic functions that it provides here."
   ]
  },
  {
   "cell_type": "code",
   "execution_count": 20,
   "metadata": {},
   "outputs": [
    {
     "data": {
      "text/plain": [
       "3.0"
      ]
     },
     "execution_count": 20,
     "metadata": {},
     "output_type": "execute_result"
    }
   ],
   "source": [
    "# Find the AVERAGE of the elements of an array\n",
    "from numpy import average\n",
    "average([1,2,3,4,5])"
   ]
  },
  {
   "cell_type": "markdown",
   "metadata": {},
   "source": [
    "One of the most important functions that you can import from numpy is `array`, which can convert a list into a more powerful numpy array object. Numpy arrays can be used in mathemtical expressions to add, subtract, or multiply their elements:"
   ]
  },
  {
   "cell_type": "code",
   "execution_count": 21,
   "metadata": {},
   "outputs": [
    {
     "data": {
      "text/plain": [
       "array([ 4, 10, 18])"
      ]
     },
     "execution_count": 21,
     "metadata": {},
     "output_type": "execute_result"
    }
   ],
   "source": [
    "import numpy\n",
    "array_one = numpy.array([1,2,3])\n",
    "array_two = numpy.array([4, 5, 6])\n",
    "array_one * array_two"
   ]
  },
  {
   "cell_type": "markdown",
   "metadata": {},
   "source": [
    "numpy can also perform other operations on arrays, like squaring their elements:"
   ]
  },
  {
   "cell_type": "code",
   "execution_count": 22,
   "metadata": {},
   "outputs": [
    {
     "data": {
      "text/plain": [
       "array([1, 4, 9])"
      ]
     },
     "execution_count": 22,
     "metadata": {},
     "output_type": "execute_result"
    }
   ],
   "source": [
    "numpy.square([1,2,3])"
   ]
  },
  {
   "cell_type": "markdown",
   "metadata": {},
   "source": [
    "### `matplotlib`: The  Module for Drawing Graphs\n",
    "\n",
    "The `matplotlib` module provides many functions that can be used in conjunction with `numpy` to draw many beautiful graphs. For example:"
   ]
  },
  {
   "cell_type": "code",
   "execution_count": 23,
   "metadata": {},
   "outputs": [
    {
     "data": {
      "image/png": "[encoded data removed]",
      "text/plain": [
       "<matplotlib.figure.Figure at 0x109798fd0>"
      ]
     },
     "metadata": {},
     "output_type": "display_data"
    }
   ],
   "source": [
    "import matplotlib.pyplot as plt\n",
    "import numpy\n",
    "heights_in_cm = numpy.array([182, 150, 197, 164, 171, 155, 187, 148, 162, 168]).reshape(-1, 1)\n",
    "weights_in_kg = numpy.array([81, 55, 90, 60, 65, 57, 86, 52, 61, 62])\n",
    "plt.scatter(heights_in_cm, weights_in_kg)\n",
    "plt.title('Weight vs. Height')\n",
    "plt.show()"
   ]
  },
  {
   "cell_type": "markdown",
   "metadata": {},
   "source": [
    "### Exercise: Plotting with `numpy` and `matplotlib`\n",
    "\n",
    "Using the matplotlib `scatter` and numpy `square` function discussed above, make a scatter plot with the numbers 1-10 on the x axis and their squares on the y axes.  "
   ]
  }
 ],
 "metadata": {
  "kernelspec": {
   "display_name": "Python 3",
   "language": "python",
   "name": "python3"
  },
  "language_info": {
   "codemirror_mode": {
    "name": "ipython",
    "version": 3
   },
   "file_extension": ".py",
   "mimetype": "text/x-python",
   "name": "python",
   "nbconvert_exporter": "python",
   "pygments_lexer": "ipython3",
   "version": "3.6.4"
  }
 },
 "nbformat": 4,
 "nbformat_minor": 2
}

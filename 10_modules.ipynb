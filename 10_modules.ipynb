{
 "cells": [
  {
   "cell_type": "markdown",
   "metadata": {},
   "source": [
    "## Modules\n",
    "\n",
    "Writing code is a collaborative process: rather than writing every single piece of code that we need ourselves, we often rely on code written by others. This allows us to avoid \"reinventing the wheel\": once the code to solve a given problem is written, the world can focus on other problems.\n",
    "\n",
    "In order to use code written by others, we need a way to pull their code into our projects. Python allows this through its **module** system. Modules contain python functions written by other people that you can use in your python programs. For example, the `random` module provides a function `randint` that generates a random integer between two other integers:"
   ]
  },
  {
   "cell_type": "code",
   "execution_count": 18,
   "metadata": {
    "scrolled": true
   },
   "outputs": [
    {
     "name": "stdout",
     "output_type": "stream",
     "text": [
      "38\n",
      "51\n",
      "85\n"
     ]
    }
   ],
   "source": [
    "from random import randint\n",
    "print(randint(0, 100))\n",
    "print(randint(0, 100))\n",
    "print(randint(0, 100))"
   ]
  },
  {
   "cell_type": "markdown",
   "metadata": {},
   "source": [
    "The functions that you import from modules can be called just like the functions that you defined yourself in previous lessons. Modules in Python can be imported using two different sytaxes - the `from` syntax shown above, or the following equivalent syntax:"
   ]
  },
  {
   "cell_type": "code",
   "execution_count": null,
   "metadata": {},
   "outputs": [],
   "source": [
    "import random\n",
    "\n",
    "print(random.randint(0, 100))\n",
    "print(random.randint(0, 100))\n",
    "print(random.randint(0, 100))"
   ]
  },
  {
   "cell_type": "markdown",
   "metadata": {},
   "source": [
    "### What Can a Module Do For You?\n",
    "\n",
    "To see the functionality contained within a given module, use the `help(...)` function built into Jupyter:"
   ]
  },
  {
   "cell_type": "code",
   "execution_count": null,
   "metadata": {},
   "outputs": [],
   "source": [
    "help(random)"
   ]
  },
  {
   "cell_type": "markdown",
   "metadata": {},
   "source": [
    "Help can also be used to view the documentation for a function that we have imported from a module:"
   ]
  },
  {
   "cell_type": "code",
   "execution_count": null,
   "metadata": {},
   "outputs": [],
   "source": [
    "from random import choice\n",
    "help(choice)"
   ]
  },
  {
   "cell_type": "markdown",
   "metadata": {},
   "source": [
    "Let's experiment with the `choice` function for which we just viewed the help:"
   ]
  },
  {
   "cell_type": "code",
   "execution_count": null,
   "metadata": {},
   "outputs": [],
   "source": [
    "choice([1,2,3,4])"
   ]
  },
  {
   "cell_type": "markdown",
   "metadata": {},
   "source": [
    "### Exercise: Using the random module\n",
    "\n",
    "Write a function get_three that takes an list of numbers as an argument and returns a new list\n",
    "of three numbers chosen at random from the first list\n"
   ]
  },
  {
   "cell_type": "code",
   "execution_count": null,
   "metadata": {},
   "outputs": [],
   "source": []
  },
  {
   "cell_type": "markdown",
   "metadata": {},
   "source": [
    "### More Useful Modules: The `urllib` Module\n",
    "\n",
    "There are thousands upon thousands of python modules in the official repository (PyPI) - this means that no matter what task that you wish to accomplish, someone else has probably written an implementation that can help you. We will explore some of these modules later, but for now we will stick to the much smaller set of modules that are included with Python itself. Let's use the `request` submodule of the `urllib` module to pull the data for a web page from the internet. We'll start by reading about what this submodule can do. Note that the first function mentioned is `urlopen`:"
   ]
  },
  {
   "cell_type": "code",
   "execution_count": null,
   "metadata": {},
   "outputs": [],
   "source": [
    "import urllib\n",
    "help(urllib.request)"
   ]
  },
  {
   "cell_type": "markdown",
   "metadata": {},
   "source": [
    "Let's follow these instructions and download a web page:"
   ]
  },
  {
   "cell_type": "code",
   "execution_count": null,
   "metadata": {},
   "outputs": [],
   "source": [
    "from urllib.request import urlopen\n",
    "\n",
    "response = urlopen(\"https://en.wikipedia.org/wiki/Maybank\")\n",
    "print(response.code)"
   ]
  },
  {
   "cell_type": "markdown",
   "metadata": {},
   "source": [
    "The `response.code` value of `200` indicated that we successfully fetched the page. Let's look at the contents of the page:"
   ]
  },
  {
   "cell_type": "code",
   "execution_count": null,
   "metadata": {},
   "outputs": [],
   "source": [
    "text = response.read()\n",
    "print(text)"
   ]
  },
  {
   "cell_type": "markdown",
   "metadata": {},
   "source": [
    "### Example: `page_length` function\n",
    "\n",
    "Using the `urllib` code samples above as a guide, write a function called `page_length` that accepts a URL string as its only argument (you can try passing it \"https://www.google.com\".) Your function should fetch the corresponding page, read the text of the response (as above) and return the length of the resulting string. *Challenge*: Make your function print an error if `response.code` is not `200`"
   ]
  }
 ],
 "metadata": {
  "kernelspec": {
   "display_name": "Python 3",
   "language": "python",
   "name": "python3"
  },
  "language_info": {
   "codemirror_mode": {
    "name": "ipython",
    "version": 3
   },
   "file_extension": ".py",
   "mimetype": "text/x-python",
   "name": "python",
   "nbconvert_exporter": "python",
   "pygments_lexer": "ipython3",
   "version": "3.6.4"
  }
 },
 "nbformat": 4,
 "nbformat_minor": 2
}

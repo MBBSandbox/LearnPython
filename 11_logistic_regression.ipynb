{
 "cells": [
  {
   "cell_type": "markdown",
   "metadata": {},
   "source": [
    "## Logistic Regression\n",
    "\n",
    "We saw how linear regression can construct mathemtical models of simple (approximately) linear relationships, such as the relationship between weight and height. However, what if the quantity that we wish to predict is actually a *probability*, rather than an arbitrary scalar variable like height? For example, we might wish to predict the *probability* that a given individual will default on their payments prior to issuing a loan. In order to construct predictive models for event probabilities, we can use the **logistic regression** statistical method. "
   ]
  },
  {
   "cell_type": "markdown",
   "metadata": {},
   "source": [
    "\n",
    "Before examining the more challenging problem of predicting default rates, we will start with a simpler problem: predicting the probability that a given student will pass a chemistry exam. There are many variables that could be useful predictors of this probability: the IQ of the student, the amount of sleep that they had prior to the exam, etc. However, we will focus on only a single variable: number of hours studied for the exam. Let us start with a list of the number of hours that each student studied, and a list recording whether each student passed the exam. A value of `0` will indicate that the student failed the exam, while a value of `1` will indicate that the student passed. Our data looks like this:"
   ]
  },
  {
   "cell_type": "code",
   "execution_count": 61,
   "metadata": {},
   "outputs": [],
   "source": [
    "import numpy\n",
    "hours_studied = numpy.array([0, 0.5, 1, 1.5, 2, 2.5, 3, 3.5, 4, 4.5, 5, 5.5, 6, 6.5, 7, 7.5, 8, 8.5, 9])\n",
    "pass_or_fail = numpy.array([0, 0, 0, 0, 0, 0, 0, 1, 0, 1, 1, 0, 1, 1, 1, 1, 1, 1,1])"
   ]
  },
  {
   "cell_type": "markdown",
   "metadata": {},
   "source": [
    "As always, we should plot the data first and understand its structure before attempting to construct a model from it:"
   ]
  },
  {
   "cell_type": "code",
   "execution_count": 62,
   "metadata": {
    "scrolled": true
   },
   "outputs": [
    {
     "data": {
      "image/png": "[encoded data removed]",
      "text/plain": [
       "<matplotlib.figure.Figure at 0x10f4825f8>"
      ]
     },
     "metadata": {},
     "output_type": "display_data"
    }
   ],
   "source": [
    "%matplotlib inline \n",
    "import matplotlib.pyplot as plt\n",
    "plt.scatter(hours_studied, pass_or_fail)\n",
    "plt.show()"
   ]
  },
  {
   "cell_type": "markdown",
   "metadata": {},
   "source": [
    "This data tells us that the a student who studies for less than four hours is almost certain for fail, students who study between four and six hours have a reasonable chance of passing, and students who study for more than six hours are virtually certain to pass. We can construct a model of the probability of passing based on hours studied using logistic regression:"
   ]
  },
  {
   "cell_type": "code",
   "execution_count": 63,
   "metadata": {
    "scrolled": true
   },
   "outputs": [
    {
     "data": {
      "image/png": "[encoded data removed]",
      "text/plain": [
       "<matplotlib.figure.Figure at 0x10f3ccd30>"
      ]
     },
     "metadata": {},
     "output_type": "display_data"
    }
   ],
   "source": [
    "from sklearn.linear_model import LogisticRegression\n",
    "model = LogisticRegression()\n",
    "h = hours_studied.reshape(-1, 1)\n",
    "model.fit(h, pass_or_fail)\n",
    "predicted_probabilities = model.predict_proba(h)\n",
    "plt.scatter(numpy.arange(0, 9.5, 0.5), predicted_probabilities[:, 1])\n",
    "plt.show()"
   ]
  },
  {
   "cell_type": "markdown",
   "metadata": {},
   "source": [
    "### Exercise: Predicting Credit Card Default Probabilities\n",
    "\n",
    "We would expect that carrying a very high balance on credit card would be a good predictor of whether or not the cardholder will default on their debt. Using the credit card balance and default data below, perform a logistic regression to construct a model predicting the probability of default. Plot the probability predicted by your model. "
   ]
  },
  {
   "cell_type": "code",
   "execution_count": 75,
   "metadata": {},
   "outputs": [],
   "source": [
    "credit_card_balance = numpy.arange(1000, 20000, 1000)\n",
    "default = numpy.array([0, 0, 0, 0, 0, 0, 0, 1, 0, 1, 1, 0, 1, 1, 1, 1, 1, 1,1])"
   ]
  }
 ],
 "metadata": {
  "kernelspec": {
   "display_name": "Python 3",
   "language": "python",
   "name": "python3"
  },
  "language_info": {
   "codemirror_mode": {
    "name": "ipython",
    "version": 3
   },
   "file_extension": ".py",
   "mimetype": "text/x-python",
   "name": "python",
   "nbconvert_exporter": "python",
   "pygments_lexer": "ipython3",
   "version": "3.6.4"
  }
 },
 "nbformat": 4,
 "nbformat_minor": 2
}

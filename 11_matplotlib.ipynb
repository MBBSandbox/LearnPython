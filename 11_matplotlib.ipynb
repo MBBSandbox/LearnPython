{
 "cells": [
  {
   "cell_type": "markdown",
   "metadata": {},
   "source": [
    "### `matplotlib`: The  Module for Drawing Graphs\n",
    "\n",
    "The `matplotlib` module provides many functions that can be used to draw beautiful graphs. For example, we can create a simulation of a company's stock price like so:"
   ]
  },
  {
   "cell_type": "code",
   "execution_count": null,
   "metadata": {},
   "outputs": [],
   "source": [
    "import matplotlib.pyplot as plt\n",
    "import random\n",
    "current_stock_price = 1000\n",
    "stock_prices = [current_stock_price]\n",
    "for i in range(0, 1000):\n",
    "    current_stock_price = current_stock_price + random.choice([-1,1])\n",
    "    stock_prices.append(current_stock_price)\n",
    "plt.plot(stock_prices)\n",
    "plt.show()"
   ]
  },
  {
   "cell_type": "markdown",
   "metadata": {},
   "source": [
    "### Exercise: Stock Rate of Return\n",
    "\n",
    "Consider this list of closing prices (at the end of each year) for the Dow Jones Industrial Average:"
   ]
  },
  {
   "cell_type": "code",
   "execution_count": 18,
   "metadata": {},
   "outputs": [],
   "source": [
    "years = [2013,2014,2015,2016,2017]\n",
    "closing_prices = [13860.58, 15698.85, 17164.95, 16466.30, 19864.09 , 26149.39]"
   ]
  },
  {
   "cell_type": "markdown",
   "metadata": {},
   "source": [
    "Calculate the rate of return on your investment for each year, then plot the results\n",
    "in the same manner as we plotted the stock price above. (Hint: your code should also calculate and append entries to a new list, as we did above)"
   ]
  },
  {
   "cell_type": "markdown",
   "metadata": {},
   "source": [
    "### Scatter Plots\n",
    "\n",
    "We can also make cool scatter plots with matplotlib. For example, we can look at a scatter plot of the average bank account balance of a customer vs the average income in their zip code:"
   ]
  },
  {
   "cell_type": "code",
   "execution_count": null,
   "metadata": {},
   "outputs": [],
   "source": [
    "bank_account_balance = [100000, 130000, 40000, 50000, 120000, 48000, 50000,78000, 150000]\n",
    "avg_income_zip = [80000, 90000, 40000,45000, 85000,36000,32000,50000,100000]\n",
    "plt.scatter(avg_income_zip, bank_account_balance)\n",
    "plt.show()"
   ]
  },
  {
   "cell_type": "markdown",
   "metadata": {},
   "source": [
    "The approximately linear behavior of this graph indicates that the bank is doing a decent job capturing higher income customers."
   ]
  },
  {
   "cell_type": "markdown",
   "metadata": {},
   "source": [
    "The presentation of the graph can be tuned by changing the marker color and shape: "
   ]
  },
  {
   "cell_type": "code",
   "execution_count": null,
   "metadata": {},
   "outputs": [],
   "source": [
    "plt.scatter(avg_income_zip, bank_account_balance, c=\"r\",marker=\"v\")\n",
    "plt.show()"
   ]
  },
  {
   "cell_type": "markdown",
   "metadata": {},
   "source": [
    "Note that we used **keyword arguments** above - python functions can be configured \n",
    "to accept arguments with explicit specification of the argument name - this allow you to harmlessly reverse the order of the arguments, making it harder to make crucial mistakes:"
   ]
  },
  {
   "cell_type": "code",
   "execution_count": null,
   "metadata": {},
   "outputs": [],
   "source": [
    "plt.scatter(avg_income_zip, bank_account_balance, marker=\"v\", c=\"r\")\n",
    "plt.show()"
   ]
  },
  {
   "cell_type": "markdown",
   "metadata": {},
   "source": [
    "You can see the available colors using `help(...)`:"
   ]
  },
  {
   "cell_type": "code",
   "execution_count": null,
   "metadata": {},
   "outputs": [],
   "source": [
    "help(plt.colors)"
   ]
  },
  {
   "cell_type": "markdown",
   "metadata": {},
   "source": [
    "The `help(...)` for the markers is accessed a little differently:"
   ]
  },
  {
   "cell_type": "code",
   "execution_count": null,
   "metadata": {},
   "outputs": [],
   "source": [
    "import matplotlib\n",
    "help(matplotlib.markers)"
   ]
  },
  {
   "cell_type": "markdown",
   "metadata": {},
   "source": [
    "We can also add labels to the axes and a title to the graph:"
   ]
  },
  {
   "cell_type": "code",
   "execution_count": null,
   "metadata": {},
   "outputs": [],
   "source": [
    "plt.title(\"Account Balance vs. Avg Income\")\n",
    "plt.xlabel(\"Avg Income in ZIP\")\n",
    "plt.ylabel(\"Account Balance\")\n",
    "plt.scatter(avg_income_zip, bank_account_balance, marker=\"v\", c=\"r\")\n",
    "plt.show()"
   ]
  },
  {
   "cell_type": "markdown",
   "metadata": {},
   "source": [
    "### Exercise: Account Longevity\n",
    "\n",
    "Using the following data, make a scatter plot of `account_age` vs `account_balance`. Use the `pentagon` marker (look it up with `help(...)`) and make the color green. Give your graph a title and label the axes. "
   ]
  },
  {
   "cell_type": "code",
   "execution_count": 46,
   "metadata": {},
   "outputs": [],
   "source": [
    "account_balance = [100000, 130000, 40000, 50000, 120000, 48000, 50000,78000, 150000]\n",
    "account_age_yrs = [10, 1, 3, 4, 2, 4, 3, 10,12]"
   ]
  },
  {
   "cell_type": "code",
   "execution_count": null,
   "metadata": {},
   "outputs": [],
   "source": []
  }
 ],
 "metadata": {
  "kernelspec": {
   "display_name": "Python 3",
   "language": "python",
   "name": "python3"
  },
  "language_info": {
   "codemirror_mode": {
    "name": "ipython",
    "version": 3
   },
   "file_extension": ".py",
   "mimetype": "text/x-python",
   "name": "python",
   "nbconvert_exporter": "python",
   "pygments_lexer": "ipython3",
   "version": "3.6.4"
  }
 },
 "nbformat": 4,
 "nbformat_minor": 2
}

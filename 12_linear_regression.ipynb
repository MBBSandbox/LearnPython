{
 "cells": [
  {
   "cell_type": "markdown",
   "metadata": {},
   "source": [
    "## Linear Regression \n",
    "\n",
    "**Linear Regression** is a statistical method that is used to construct a line that accurately models the relationship between two variables. This line - represented by a linear equation of the form *y = mx + b*, can be used to predict the value of the dependent variable *y* given a value of the independent variable *x*."
   ]
  },
  {
   "cell_type": "markdown",
   "metadata": {},
   "source": [
    "Let us consider the relationship between the *height* and *weight* of a given person. We expect that height and weight will be correlated - taller people generally (though not always) weigh more than shorter people. We begin with a list of heights and weights of ten (fictitious) people:"
   ]
  },
  {
   "cell_type": "code",
   "execution_count": 3,
   "metadata": {},
   "outputs": [],
   "source": [
    "import numpy\n",
    "\n",
    "heights_in_cm = numpy.array([182, 150, 197, 164, 171, 155, 187, 148, 162, 168]).reshape(-1, 1)\n",
    "weights_in_kg = numpy.array([81, 55, 90, 60, 65, 57, 86, 52, 61, 62])"
   ]
  },
  {
   "cell_type": "markdown",
   "metadata": {},
   "source": [
    "Before attempting to construct a model for this data, we should visualize it and form a qualitative understanding of its form:"
   ]
  },
  {
   "cell_type": "code",
   "execution_count": null,
   "metadata": {},
   "outputs": [],
   "source": [
    "%matplotlib inline\n",
    "import matplotlib.pyplot as plt\n",
    "plt.scatter(heights_in_cm, weights_in_kg)\n",
    "plt.title('Weight vs. Height')\n",
    "plt.show()"
   ]
  },
  {
   "cell_type": "markdown",
   "metadata": {},
   "source": [
    "The data looks roughly linear, so a linear regression should yield an accurate model. We will now perform linear regression using a function from the `sklearn` module. This will give us a linear model of our data:"
   ]
  },
  {
   "cell_type": "code",
   "execution_count": null,
   "metadata": {},
   "outputs": [],
   "source": [
    "from sklearn import linear_model;\n",
    "linear = linear_model.LinearRegression()\n",
    "linear.fit(heights_in_cm, weights_in_kg)\n",
    "print(\"Linear model: y = {}x + {}\".format(linear.coef_, linear.intercept_))"
   ]
  },
  {
   "cell_type": "markdown",
   "metadata": {},
   "source": [
    "We can graph this line to see how well it fits our data:"
   ]
  },
  {
   "cell_type": "code",
   "execution_count": null,
   "metadata": {},
   "outputs": [],
   "source": [
    "predicted_weights_in_kg = linear.predict(heights_in_cm)\n",
    "plt.plot(heights_in_cm, predicted_weights_in_kg)\n",
    "plt.scatter(heights_in_cm, weights_in_kg)\n",
    "plt.title('Weight vs. Height')\n",
    "plt.show()"
   ]
  },
  {
   "cell_type": "markdown",
   "metadata": {},
   "source": [
    "The power of regression is not drawing graphs; it is that we can make **predictions**. \n",
    "For example, what is the most likely weight for someone who is 178cm in height?"
   ]
  },
  {
   "cell_type": "code",
   "execution_count": 10,
   "metadata": {},
   "outputs": [
    {
     "name": "stdout",
     "output_type": "stream",
     "text": [
      "[74.77637849]\n"
     ]
    }
   ],
   "source": [
    "predicted_weight = linear.predict(178)\n",
    "print(predicted_weight)\n"
   ]
  },
  {
   "cell_type": "markdown",
   "metadata": {},
   "source": [
    "### Exercise: Linear Regression\n",
    "\n",
    "Let's revisit the account balance vs income dataset from the previous lesson. "
   ]
  },
  {
   "cell_type": "code",
   "execution_count": 1,
   "metadata": {},
   "outputs": [],
   "source": [
    "bank_account_balance = [100000, 130000, 40000, 50000, 120000, 48000, 50000,78000, 150000]\n",
    "avg_income_zip = [80000, 90000, 40000,45000, 85000,36000,32000,50000,100000]"
   ]
  },
  {
   "cell_type": "markdown",
   "metadata": {},
   "source": [
    "Perform a linear regression on this dataset, and plot both the raw data and the fitted line. Use a different color for each one. "
   ]
  },
  {
   "cell_type": "markdown",
   "metadata": {},
   "source": [
    "Now, write a function that accepts a parameter `client_zip_avg_income` and returns a single value - the predicted bank account balance of the user, based on the output of the model. "
   ]
  },
  {
   "cell_type": "markdown",
   "metadata": {},
   "source": [
    "### Exercise: Productionizing Machine Learning\n",
    "\n",
    "Now that we have a predictive model, our engineers should incorporate that model into \n",
    "our production code. Using the balance prediction function above, write a new higher-level function called `accept_client` with the following traits: \n",
    "\n",
    "1. It accepts three parameters: `client_zip_avg_income`, `interest_rate`, and `maintenance_cost`\n",
    "2. It returns `True` if the interest earnings from the predicted account balance exceed the maintenance costs, `False` otherwise. "
   ]
  }
 ],
 "metadata": {
  "kernelspec": {
   "display_name": "Python 3",
   "language": "python",
   "name": "python3"
  },
  "language_info": {
   "codemirror_mode": {
    "name": "ipython",
    "version": 3
   },
   "file_extension": ".py",
   "mimetype": "text/x-python",
   "name": "python",
   "nbconvert_exporter": "python",
   "pygments_lexer": "ipython3",
   "version": "3.6.4"
  }
 },
 "nbformat": 4,
 "nbformat_minor": 2
}

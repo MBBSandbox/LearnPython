{
 "cells": [
  {
   "cell_type": "markdown",
   "metadata": {},
   "source": [
    "## Numpy: The \"Lots of Numbers\" Module\n",
    "\n",
    "The `numpy` module is very useful for managing large arrays of numbers. To understand why we need it, consider the `list` objects that we have learned about before:"
   ]
  },
  {
   "cell_type": "code",
   "execution_count": 1,
   "metadata": {},
   "outputs": [],
   "source": [
    "my_list = [1,2,3]"
   ]
  },
  {
   "cell_type": "markdown",
   "metadata": {},
   "source": [
    "But what if I want a matrix, instead of list? This becomes very awkward to implement with traditional lists: "
   ]
  },
  {
   "cell_type": "code",
   "execution_count": 3,
   "metadata": {},
   "outputs": [],
   "source": [
    "credit_score_factors = [\"credit limit\", \"balance\", \"oldest credit line age\"]\n",
    "factors_by_card = [[10000, 1000, 2], [5000, 2000, 1], [4000, 3000, 5]]"
   ]
  },
  {
   "cell_type": "markdown",
   "metadata": {},
   "source": [
    "This does not look like a matrix at all. The problem is even worse if we need more dimensions; for example, if we store credit score factors for every single user:"
   ]
  },
  {
   "cell_type": "code",
   "execution_count": 19,
   "metadata": {},
   "outputs": [
    {
     "name": "stdout",
     "output_type": "stream",
     "text": [
      "[[[10000, 1000, 2], [5000, 2000, 1], [4000, 3000, 5]], [[12000, 2000, 3], [6000, 2500, 2], [4500, 2500, 2]]]\n"
     ]
    }
   ],
   "source": [
    "factors_by_card_by_user = [[[10000, 1000, 2], [5000, 2000, 1], [4000, 3000, 5]], [[12000, 2000, 3], [6000, 2500, 2], [4500, 2500, 2]]]\n",
    "print(factors_by_card_by_user)"
   ]
  },
  {
   "cell_type": "markdown",
   "metadata": {},
   "source": [
    "The `numpy` module makes everything much cleaner to work with by allowing us to convert our nasty multidimensional list to a `numpy` array:"
   ]
  },
  {
   "cell_type": "code",
   "execution_count": null,
   "metadata": {},
   "outputs": [],
   "source": [
    "import numpy as np\n",
    "\n",
    "factors_by_card_by_user = np.array(factors_by_card_by_user)\n",
    "print(factors_by_card_by_user)"
   ]
  },
  {
   "cell_type": "markdown",
   "metadata": {},
   "source": [
    "`numpy` provides a very convenient slice syntax for accessing individual dimensions of \n",
    "multidimensional arrays: "
   ]
  },
  {
   "cell_type": "code",
   "execution_count": null,
   "metadata": {},
   "outputs": [],
   "source": [
    "factors_by_card_by_user[1,:,:]"
   ]
  },
  {
   "cell_type": "code",
   "execution_count": null,
   "metadata": {},
   "outputs": [],
   "source": [
    "factors_by_card_by_user[1,:,2]"
   ]
  },
  {
   "cell_type": "markdown",
   "metadata": {},
   "source": [
    "### Exercise: Multidimensional Arrays \n",
    "\n",
    "Write a function `get_highest_balance` that accepts an `ndarray` with the same structure as factors_by_card_by_user and returns the highest balance card for a given user index. Call your function like `get_highest_balance(factors_by_card_by_user, 1)` to return the highest balance card for user `1`. "
   ]
  },
  {
   "cell_type": "markdown",
   "metadata": {},
   "source": [
    "The multidimensional nature of numpy arrays means that we often talk about their *shape*. The shape of a numpy array object can be obtained by querying its shape property:"
   ]
  },
  {
   "cell_type": "code",
   "execution_count": null,
   "metadata": {},
   "outputs": [],
   "source": [
    "factors_by_card_by_user.shape"
   ]
  },
  {
   "cell_type": "markdown",
   "metadata": {},
   "source": [
    "The shape can be changed using the `reshape(...)` method. For example, you can make a 1D array into a 2D array"
   ]
  },
  {
   "cell_type": "code",
   "execution_count": null,
   "metadata": {},
   "outputs": [],
   "source": [
    "arr = np.array([1,2,3,4,5,6,7,8])\n",
    "arr.reshape(2,4)"
   ]
  },
  {
   "cell_type": "markdown",
   "metadata": {},
   "source": [
    "Or, I can make my 2d array into a 3d array:"
   ]
  },
  {
   "cell_type": "code",
   "execution_count": null,
   "metadata": {},
   "outputs": [],
   "source": [
    "arr.reshape(2,2,2)"
   ]
  },
  {
   "cell_type": "markdown",
   "metadata": {},
   "source": [
    "There is a **hack** (that we will use later) to make a 1D list \"technically\" 2D:"
   ]
  },
  {
   "cell_type": "code",
   "execution_count": null,
   "metadata": {},
   "outputs": [],
   "source": [
    "np.array([1,2,3,4]).reshape(-1,1)"
   ]
  },
  {
   "cell_type": "markdown",
   "metadata": {},
   "source": [
    "###  Math with Arrays\n",
    "\n",
    "It is much easier to perform mathematical operations on `numpy` arrays than on regular lists. For example, this is what happens when you multiply two lists:"
   ]
  },
  {
   "cell_type": "code",
   "execution_count": null,
   "metadata": {},
   "outputs": [],
   "source": [
    "list(range(0,10)) * list(range(0,10))"
   ]
  },
  {
   "cell_type": "markdown",
   "metadata": {},
   "source": [
    "Now compare it to what happens when you multiply two numpy arrays: "
   ]
  },
  {
   "cell_type": "code",
   "execution_count": null,
   "metadata": {},
   "outputs": [],
   "source": [
    "np.array(range(0,10)) * np.array(range(0,10))"
   ]
  },
  {
   "cell_type": "markdown",
   "metadata": {},
   "source": [
    "### Exercise: Plotting Cubes\n",
    "\n",
    "Write a function `get_cubes_between` that accepts two numbers as arguments and plots the cube of all numbers starting from the first number and ending at the last number. Use `matplotlib` to plot the resulting cubes against the original numbers. \n",
    "\n"
   ]
  },
  {
   "cell_type": "code",
   "execution_count": null,
   "metadata": {},
   "outputs": [],
   "source": []
  }
 ],
 "metadata": {
  "kernelspec": {
   "display_name": "Python 3",
   "language": "python",
   "name": "python3"
  },
  "language_info": {
   "codemirror_mode": {
    "name": "ipython",
    "version": 3
   },
   "file_extension": ".py",
   "mimetype": "text/x-python",
   "name": "python",
   "nbconvert_exporter": "python",
   "pygments_lexer": "ipython3",
   "version": "3.6.4"
  }
 },
 "nbformat": 4,
 "nbformat_minor": 2
}
